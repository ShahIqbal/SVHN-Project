{
  "cells": [
    {
      "metadata": {
        "_uuid": "8f2839f25d086af736a60e9eeb907d3b93b6e0e5",
        "_cell_guid": "b1076dfc-b9ad-4769-8c92-a6c4dae69d19",
        "trusted": true
      },
      "cell_type": "code",
      "source": "# This Python 3 environment comes with many helpful analytics libraries installed\nimport numpy as np # linear algebra\nimport pandas as pd # data processing, CSV file I/O (e.g. pd.read_csv)\nimport os\nprint(os.listdir(\"../input\"))\nimport h5py\nimport matplotlib.pyplot as plt\nfrom scipy.io import loadmat\nimport numpy as np\nimport matplotlib.pyplot as plt\nimport seaborn as sns\nfrom scipy.io import loadmat\nfrom skimage import color\nfrom skimage import io\nfrom sklearn.model_selection import train_test_split\nfrom sklearn.svm import LinearSVC\nfrom sklearn.cluster import KMeans\nfrom sklearn.metrics import classification_report\nfrom keras.layers import Input, Dense\nfrom keras.models import Model\nfrom keras import regularizers\nfrom sklearn.datasets import fetch_mldata\nfrom sklearn.decomposition import PCA\nfrom sklearn.svm import SVC\nfrom sklearn.linear_model import LogisticRegression, Perceptron\nfrom sklearn.ensemble import RandomForestClassifier\nfrom sklearn.ensemble import BaggingClassifier\nfrom sklearn.tree import DecisionTreeClassifier\nfrom sklearn.ensemble import AdaBoostClassifier\nfrom sklearn.model_selection import GridSearchCV\nfrom sklearn.model_selection import train_test_split \nfrom sklearn.model_selection import cross_val_score\nfrom sklearn.metrics import f1_score\nfrom sklearn.metrics import accuracy_score\nfrom sklearn.ensemble import VotingClassifier\nfrom sklearn.feature_selection import SelectFromModel\nfrom sklearn.preprocessing import StandardScaler\nfrom sklearn.pipeline import Pipeline\nfrom sklearn.model_selection import cross_val_score\nfrom sklearn.naive_bayes import GaussianNB\nfrom sklearn.neighbors import KNeighborsClassifier\nfrom keras.models import Sequential, Model\nfrom keras.optimizers import SGD, RMSprop, Adam, Nadam\nfrom keras.callbacks import ModelCheckpoint\nfrom keras.preprocessing.image import ImageDataGenerator\nfrom keras.utils import to_categorical\nfrom keras.optimizers import SGD, Adadelta, Adagrad\nfrom keras.constraints import max_norm\nfrom keras.layers import Dense, Dropout, LSTM\nfrom keras.layers import Activation, Flatten, Input, BatchNormalization\nfrom keras.layers import Conv1D, MaxPooling1D \nfrom keras.layers import Conv2D, MaxPooling2D\nfrom keras.layers import GlobalAveragePooling2D, GlobalMaxPooling2D\nfrom keras.layers.convolutional import Convolution2D, MaxPooling2D\nfrom skimage.feature import hog\nfrom sklearn.preprocessing import OneHotEncoder\nfrom sklearn.multiclass import OneVsRestClassifier\nfrom sklearn.decomposition import PCA\nimport cv2\n# Any results you write to the current directory are saved as output.",
      "execution_count": null,
      "outputs": []
    },
    {
      "metadata": {
        "_cell_guid": "79c7e3d0-c299-4dcb-8224-4455121ee9b0",
        "_uuid": "d629ff2d2480ee46fbb7e2d37f6b5fab8052498a",
        "trusted": true
      },
      "cell_type": "code",
      "source": "# labels_file = '../input/train_digitStruct.mat'\n# f = h5py.File(labels_file)\n# ref = f.get('/digitStruct/name').value[32402][0]  # <HDF5 object reference>\n# print(f[ref].value)\n# plt.imshow(f[ref].value)\n# ref = f.get('/digitStruct/name')\n# ref.shape\n",
      "execution_count": null,
      "outputs": []
    },
    {
      "metadata": {
        "trusted": true,
        "_uuid": "762037a6119738578bd219eb35c119f8db1b5777"
      },
      "cell_type": "code",
      "source": "def load_data(path):\n    \"\"\" Helper function for loading a MAT-File\"\"\"\n    data = loadmat(path)\n    return data['X'], data['y']\n\npath = '../input/svhntrain/train_32x32.mat'\npathTest = '../input/svhntest/test_32x32.mat'\nX_train, y_train = load_data(path)\nX_test, y_test = load_data(pathTest)\n",
      "execution_count": null,
      "outputs": []
    },
    {
      "metadata": {
        "trusted": true,
        "_uuid": "f24bf3a922e83520a426867537cfbce7b07af5ca"
      },
      "cell_type": "code",
      "source": "# Transposing the the train and test data\n# by converting it from  \n# (width, height, channels, size) -> (size, width, height, channels)\n\nX_train, y_train = X_train.transpose((3,0,1,2)), y_train[:,0]\nX_test, y_test = X_test.transpose((3,0,1,2)), y_test[:,0]",
      "execution_count": null,
      "outputs": []
    },
    {
      "metadata": {
        "trusted": true,
        "_uuid": "1815c222ef236100e042956f223cc53c6719f3b6"
      },
      "cell_type": "code",
      "source": "print(\"Training Set\", X_train.shape)\nprint('')\n\nprint(\"Test Set\", X_test.shape)\nprint('')\n\n# Calculate the total number of images\nnum_images = X_train.shape[0]\nnum_images2 = X_test.shape[0]\n\nprint(\"Total Number of Train Images\", num_images)\nprint(\"Total Number of Test Images\", num_images2)",
      "execution_count": null,
      "outputs": []
    },
    {
      "metadata": {
        "trusted": true,
        "_uuid": "018c393c2999c762000e218a78353756f7afc257"
      },
      "cell_type": "code",
      "source": "#plt.imshow(X_train[3,:,:,])\n\ndef plot_images(img, labels, nrows, ncols):\n    \"\"\" Plot nrows x ncols images\n    \"\"\"\n    fig, axes = plt.subplots(nrows, ncols)\n    for i, ax in enumerate(axes.flat): \n        if img[i].shape == (32, 32, 3):\n            ax.imshow(img[i])\n        else:\n            ax.imshow(img[i,:,:,0])\n        ax.set_xticks([]); ax.set_yticks([])\n        #ax.set_title(labels[i])",
      "execution_count": null,
      "outputs": []
    },
    {
      "metadata": {
        "trusted": true,
        "_uuid": "6eb1cea63e6ba37e3c9d8a2c03086fe011b75aa5"
      },
      "cell_type": "code",
      "source": "plot_images(X_train, y_train, 1, 5)",
      "execution_count": null,
      "outputs": []
    },
    {
      "metadata": {
        "trusted": true,
        "_uuid": "584ab6cb1cd89ad74f6db30c3518542db56d027a"
      },
      "cell_type": "code",
      "source": "y_train[y_train == 10] = 0\ny_test[y_test == 10] = 0\nprint(np.unique(y_train))",
      "execution_count": null,
      "outputs": []
    },
    {
      "metadata": {
        "trusted": true,
        "_uuid": "e2c2b710e2f4332ebcc842952428a6912f6ad728"
      },
      "cell_type": "code",
      "source": "fig, (ax1, ax2) = plt.subplots(1, 2, sharex=True)\n\nfig.suptitle('Class Distribution', fontsize=14, fontweight='bold', y=1.05)\n\nax1.hist(y_train, bins=10)\nax1.set_title(\"Training set\")\nax1.set_xlim(1, 10)\n\nax2.hist(y_test, color='g', bins=10)\nax2.set_title(\"Test set\")\n\nfig.tight_layout()",
      "execution_count": null,
      "outputs": []
    },
    {
      "metadata": {
        "trusted": true,
        "_uuid": "0a7fd084d7efb51beef265c2c93ae8bc97352e72"
      },
      "cell_type": "code",
      "source": "X_train, X_val, y_train, y_val = train_test_split(X_train, y_train, test_size=0.13, random_state=7)",
      "execution_count": null,
      "outputs": []
    },
    {
      "metadata": {
        "trusted": true,
        "_uuid": "f30885a72cdf1dcaec92cca4845c1fb30a01cd47"
      },
      "cell_type": "code",
      "source": "train_mean = np.mean(X_train, axis=0) #Shape (32,3)\ntrain_std = np.std(X_train, axis=0) #Shape (32,3)\nX_train_norm = (X_train - train_mean) / train_std\nprint(X_train.shape)\nprint(train_mean.shape)\nprint(train_std.shape)",
      "execution_count": null,
      "outputs": []
    },
    {
      "metadata": {
        "trusted": true,
        "_uuid": "840701b1dc6b52353f83e617d4d12d4bdd0da84a"
      },
      "cell_type": "code",
      "source": "X_train_norm_array = np.array(X_train_norm)\n# y_train_array = np.array(y_train).reshape(len(y_train),1)\ny_train_array = np.array(y_train)\nX_test = np.array(X_test)\ny_test = np.array(y_test)\nX_val_array = np.array(X_val)\ny_val_array = np.array(y_val)\nprint(X_train_norm_array.shape)\nprint(y_train_array.shape)\n",
      "execution_count": null,
      "outputs": []
    },
    {
      "metadata": {
        "trusted": true,
        "_uuid": "e89abc4cb3b92fe481095ce7cafec32f4b8b2c2a"
      },
      "cell_type": "code",
      "source": "",
      "execution_count": null,
      "outputs": []
    },
    {
      "metadata": {
        "trusted": true,
        "_uuid": "09f365af53e48eae6d6a8cca65ca3fb56cdcc4b8"
      },
      "cell_type": "code",
      "source": "print(y_train_array.shape)\nx_train_reshaped = X_train_norm_array[:,:,:,0]\nX_val_array_new = X_val_array[:,:,:,0]\nprint(x_train_reshaped.shape)\n# x_train_wtf = x_train_reshaped.reshape(x_train_reshaped.shape[0],-1)\n# X_val_res = X_val_array_new.reshape(X_val_array_new.shape[0],-1)\nx_train_wtf = x_train_reshaped.astype(np.float32).reshape(-1, 32*32)\nX_val_res = X_val_array_new.astype(np.float32).reshape(-1, 32*32)\nprint(x_train_wtf.shape)\nprint(X_val_res.shape)",
      "execution_count": null,
      "outputs": []
    },
    {
      "metadata": {
        "trusted": true,
        "_uuid": "574d405a985805fce785baa9d50cd597c6ea9acc"
      },
      "cell_type": "code",
      "source": "print(y_val_array.shape)",
      "execution_count": null,
      "outputs": []
    },
    {
      "metadata": {
        "trusted": true,
        "_uuid": "3227dcdf5be18f3f7c2b7159b6515eb110e1e10f",
        "scrolled": false
      },
      "cell_type": "code",
      "source": "# # kmeans = KMeans(n_clusters=10, random_state=0).fit(x_train_wtf, y_train_array)\n# # svm_result = kmeans.predict(X_val_res)\n# # svm_result = np.array(svm_result).reshape(len(svm_result), -1)\n# # print(classification_report(y_val_array.reshape(len(y_val_array), 1), svm_result))\n\n\n\n\n################################ SPARSE AUTO ENCODER ####################################\nencoding_dim = 3\n\ninput_img = Input(shape=(32,32,3))\n# add a Dense layer with a L1 activity regularizer\nencoded = Dense(encoding_dim, activation='relu',\n                activity_regularizer=regularizers.l1(10e-5))(input_img)\ndecoded = Dense(3, activation='sigmoid')(encoded)\n\nautoencoder = Model(input_img, decoded)\n\nencoder = Model(input_img, encoded)\n\n# create a placeholder for an encoded (32-dimensional) input\nencoded_input = Input(shape=(encoding_dim,))\n# retrieve the last layer of the autoencoder model\ndecoder_layer = autoencoder.layers[-1]\n# create the decoder model\ndecoder = Model(encoded_input, decoder_layer(encoded_input))\n\nautoencoder.compile(optimizer='adadelta', loss='binary_crossentropy')\n\nautoencoder.fit(X_train_norm, X_train_norm,\n                epochs=20,\n                batch_size=256,\n                shuffle=True,\n                validation_data=(X_val_array, X_val_array))\n\nencoded_imgs = encoder.predict(X_val_array)\n\n# n = 10  # how many digits we will display\n# plt.figure(figsize=(20, 4))\n# for i in range(n):\n#     # display original\n#     ax = plt.subplot(2, n, i + 1)\n#     plt.imshow(X_val_res[i].reshape(32, 32))\n#     plt.gray()\n#     ax.get_xaxis().set_visible(False)\n#     ax.get_yaxis().set_visible(False)\n\n#     # display reconstruction\n#     ax = plt.subplot(2, n, i + 1 + n)\n#     plt.imshow(decoded_imgs[i].reshape(32, 32))\n#     plt.gray()\n#     ax.get_xaxis().set_visible(False)\n#     ax.get_yaxis().set_visible(False)\n# plt.show()",
      "execution_count": null,
      "outputs": []
    },
    {
      "metadata": {
        "trusted": true,
        "_uuid": "f1978a0b1b11b986d55435404652269937509df4"
      },
      "cell_type": "code",
      "source": "# kmeans = KMeans(n_clusters=10, random_state=0).fit(x_train_wtf)\n# svm_result = kmeans.predict(X_val_res)\n# svm_result = np.array(svm_result).reshape(len(svm_result), -1)\n# print(classification_report(y_val_array.reshape(len(y_val_array), 1), svm_result))\n\n# ran_clf =  RandomForestClassifier(n_estimators = 200, max_depth=12)\n# ran_clf.fit(x_train_wtf, y_train_array)\n# ran_predicted = ran_clf.predict(X_val_res)\n# print('Random Forest test accuracy : {}'.format(accuracy_score(y_val_array, ran_predicted)))\n# print('=============================================================================')",
      "execution_count": null,
      "outputs": []
    },
    {
      "metadata": {
        "trusted": true,
        "scrolled": true,
        "_uuid": "2970a54c762e8fdf140cd7e6965e5e5d52662060"
      },
      "cell_type": "code",
      "source": "encoded_imgs = encoder.predict(X_train_norm)\nencoded_imgs.shape",
      "execution_count": null,
      "outputs": []
    },
    {
      "metadata": {
        "trusted": true,
        "_uuid": "94e0574a8b881a61e133fbc68724573492ac9da4"
      },
      "cell_type": "code",
      "source": "encoded_imgs_val = encoder.predict(X_val_array)",
      "execution_count": null,
      "outputs": []
    },
    {
      "metadata": {
        "trusted": true,
        "_uuid": "8f56b1d7da873378306ac28262868047e6d8ef30"
      },
      "cell_type": "code",
      "source": "x_train_reshaped_encoded = encoded_imgs[:,:,:,0]\nx_train_wtf_enc = x_train_reshaped_encoded.astype(np.float32).reshape(-1, 32*32)",
      "execution_count": null,
      "outputs": []
    },
    {
      "metadata": {
        "trusted": true,
        "_uuid": "e2db696c19218114303cf4f70fff3c3e3eaf7850"
      },
      "cell_type": "code",
      "source": "x_val_reshaped_encoded = encoded_imgs_val[:,:,:,0]\nx_val_wtf_enc = x_val_reshaped_encoded.astype(np.float32).reshape(-1, 32*32)",
      "execution_count": null,
      "outputs": []
    },
    {
      "metadata": {
        "trusted": true,
        "_uuid": "2170f50858a87b955eb112e86022f889a2de3089"
      },
      "cell_type": "code",
      "source": "y_train_cnn = to_categorical(y_train_array, 10)\ny_val_cnn = to_categorical(y_val_array, 10)\ny_test_cnn = to_categorical(y_test, 10)\nprint(y_train_cnn.shape)\nprint(y_val_cnn.shape)\nprint(y_test_cnn.shape)",
      "execution_count": null,
      "outputs": []
    },
    {
      "metadata": {
        "trusted": true,
        "_uuid": "3aa98e7e13783f1c77515fb292d4bf7d41e9fa76"
      },
      "cell_type": "code",
      "source": "from skimage import color\nX_train_255 = np.divide(X_train, 255)\nX_train_255_arr = np.array(X_train_255)\ndata_gray = [color.rgb2gray(i) for i in X_train_255_arr]",
      "execution_count": null,
      "outputs": []
    },
    {
      "metadata": {
        "trusted": true,
        "_uuid": "ae5ac76bd02ad02c252434289f78b6d49c1da6cb"
      },
      "cell_type": "code",
      "source": "plt.imshow(data_gray[10], cmap='gray')",
      "execution_count": null,
      "outputs": []
    },
    {
      "metadata": {
        "trusted": true,
        "scrolled": false,
        "_uuid": "5a462c4f5b4646c8faa6b50b79d310fbace43a89"
      },
      "cell_type": "code",
      "source": "ppc = 16\nhog_images = []\nhog_features = []\nfor image in data_gray:\n    fd,hog_image = hog(image, orientations=8, pixels_per_cell=(ppc,ppc),cells_per_block=(2, 2),block_norm= 'L2',visualise=True)\n    hog_images.append(hog_image)\n    hog_features.append(fd)",
      "execution_count": null,
      "outputs": []
    },
    {
      "metadata": {
        "trusted": true,
        "_uuid": "4314fe0c6528c7fb9401b3a67ea8fac0c307467d"
      },
      "cell_type": "code",
      "source": "data_gray_val = [color.rgb2gray(i) for i in X_val_array]",
      "execution_count": null,
      "outputs": []
    },
    {
      "metadata": {
        "trusted": true,
        "_uuid": "4ba2a0c43cc9893cdb991d6363a68a88f7620dc0"
      },
      "cell_type": "code",
      "source": "data_gray_test = [color.rgb2gray(i) for i in np.array(X_test)]",
      "execution_count": null,
      "outputs": []
    },
    {
      "metadata": {
        "trusted": true,
        "_uuid": "26e4cbdf9c6d3664a762d6cbd8ec9e68a1b124b7"
      },
      "cell_type": "code",
      "source": "hog_images_val = []\nhog_features_val = []\nfor image_val in data_gray_val:\n    fd_val,hog_image_val = hog(image_val, orientations=8, pixels_per_cell=(ppc,ppc),cells_per_block=(2, 2),block_norm= 'L2',visualise=True)\n    hog_images_val.append(hog_image_val)\n    hog_features_val.append(fd_val)",
      "execution_count": null,
      "outputs": []
    },
    {
      "metadata": {
        "trusted": true,
        "_uuid": "5871b7a365eb541fb8c91eaa0c1d8c5660c41dc6"
      },
      "cell_type": "code",
      "source": "hog_images_test = []\nhog_features_test = []\nfor image_test in data_gray_test:\n    fd_test,hog_image_test = hog(image_test, orientations=8, pixels_per_cell=(ppc,ppc),cells_per_block=(2, 2),block_norm= 'L2',visualise=True)\n    hog_images_test.append(hog_image_test)\n    hog_features_test.append(fd_test)",
      "execution_count": null,
      "outputs": []
    },
    {
      "metadata": {
        "trusted": true,
        "_uuid": "b5ab0c542c6642d0f7f2564e6f09a885c5ce1db4"
      },
      "cell_type": "code",
      "source": "X_train_255.shape",
      "execution_count": null,
      "outputs": []
    },
    {
      "metadata": {
        "trusted": true,
        "_uuid": "10535bfeae691b5d2a48478fc93e02df49e9e7f7"
      },
      "cell_type": "code",
      "source": "hog_features = np.array(hog_features)\nhog_features_test_255 = np.divide(hog_features_test, 255)",
      "execution_count": null,
      "outputs": []
    },
    {
      "metadata": {
        "trusted": true,
        "scrolled": false,
        "_uuid": "3a2f110f2cacbcbc6af5c0dcae9902fa32588c67"
      },
      "cell_type": "code",
      "source": "hog_features_val = np.array(hog_features_val)",
      "execution_count": null,
      "outputs": []
    },
    {
      "metadata": {
        "trusted": true,
        "_uuid": "a37137bd335f7c65747ce293fa5eef318405086c"
      },
      "cell_type": "code",
      "source": "svc_clf = Pipeline([\n        (\"scaler\", StandardScaler()),\n        (\"svm_clf\", SVC(kernel=\"poly\", degree=7, coef0=1, C=0.5))\n    ])\nsvc_clf.fit(hog_features, y_train_array)\n# svc_clf.fit(x_train_wtf_enc, y_train_array)\nsvc_clf_predicted = svc_clf.predict(hog_features_test)\nprint('SVM test accuracy : {}'.format(accuracy_score(np.array(y_test), svc_clf_predicted)))\nprint('=============================================================================')",
      "execution_count": null,
      "outputs": []
    },
    {
      "metadata": {
        "trusted": true,
        "_uuid": "6cdefef63ec06ab27837f4f8294a9072b97fec02"
      },
      "cell_type": "code",
      "source": "ran_clf =  RandomForestClassifier(n_estimators = 200)\nran_clf.fit(hog_features, y_train_array)\nran_predicted = ran_clf.predict(hog_features_test)\nprint('Random Forest test accuracy : {}'.format(accuracy_score(y_test, ran_predicted)))\nprint('=============================================================================')",
      "execution_count": null,
      "outputs": []
    },
    {
      "metadata": {
        "trusted": true,
        "_uuid": "9bf7c8eeb56957021cc1955cc90fd2a229c55ea2",
        "scrolled": true
      },
      "cell_type": "code",
      "source": "from sklearn.naive_bayes import GaussianNB\ngnb_clf = GaussianNB()\ngnb_clf.fit(hog_features, y_train_array)\nran_predicted = gnb_clf.predict(hog_features_val)\nprint('NB Accuracy test accuracy : {}'.format(accuracy_score(y_val_array, ran_predicted)))\nprint('=============================================================================')",
      "execution_count": null,
      "outputs": []
    },
    {
      "metadata": {
        "trusted": true,
        "scrolled": true,
        "_uuid": "b1e1b23e78069f1322c97f65b27457cc4d788f5c"
      },
      "cell_type": "code",
      "source": "from sklearn.neighbors import KNeighborsClassifier\nknn_clf = KNeighborsClassifier(n_neighbors=40) # default value for n_neighbors is 5\nknn_clf.fit(hog_features, y_train_array)\nran_predicted = knn_clf.predict(hog_features_test)\nprint('NB Accuracy test accuracy : {}'.format(accuracy_score(np.array(y_test), ran_predicted)))\nprint('=============================================================================')",
      "execution_count": null,
      "outputs": []
    },
    {
      "metadata": {
        "trusted": true,
        "_uuid": "5d126295cdf62d4123c54b9307a862ddda8f419b"
      },
      "cell_type": "code",
      "source": "kmeans = KMeans(n_clusters=10).fit(hog_features)\ncluster_centers = kmeans.cluster_centers_\ncluster_labels = kmeans.labels_\nsvm_result = kmeans.predict(hog_features_val)\nprint(classification_report(y_val_array, svm_result))",
      "execution_count": null,
      "outputs": []
    },
    {
      "metadata": {
        "trusted": true,
        "_uuid": "2aeefc23504d81f721fbd0f00a55fc111a08a408"
      },
      "cell_type": "code",
      "source": "################################ SPARSE AUTO ENCODER ####################################\nencoding_dim = 32\n\ninput_img = Input(shape=(1024,))\n# add a Dense layer with a L1 activity regularizer\nencoded = Dense(encoding_dim, activation='relu',\n                activity_regularizer=regularizers.l1(10e-5))(input_img)\ndecoded = Dense(1024, activation='sigmoid')(encoded)\n\nautoencoder = Model(input_img, decoded)\n\nencoder = Model(input_img, encoded)\n\n# create a placeholder for an encoded (32-dimensional) input\nencoded_input = Input(shape=(encoding_dim,))\n# retrieve the last layer of the autoencoder model\ndecoder_layer = autoencoder.layers[-1]\n# create the decoder model\ndecoder = Model(encoded_input, decoder_layer(encoded_input))\n\nautoencoder.compile(optimizer='adadelta', loss='binary_crossentropy')\n\nautoencoder.fit(x_train_wtf, x_train_wtf,\n                epochs=100,\n                batch_size=256,\n                shuffle=True,\n                validation_data=(X_val_res, X_val_res))\n\nencoded_imgs = encoder.predict(x_train_wtf)\ndecoded_imgs = decoder.predict(encoded_imgs)",
      "execution_count": null,
      "outputs": []
    },
    {
      "metadata": {
        "trusted": true,
        "_uuid": "cdae665e6dbb5176a74937009b9f26b21435bd08"
      },
      "cell_type": "code",
      "source": "len(decoded_imgs)",
      "execution_count": null,
      "outputs": []
    },
    {
      "metadata": {
        "trusted": true,
        "_uuid": "54787820bc3c6be06445eb22d5aadadd4dd0ec4e"
      },
      "cell_type": "code",
      "source": "#Import Library\nfrom sklearn.ensemble import GradientBoostingClassifier\n#Assumed you have, X (predictor) and Y (target) for training data set and x_test(predictor) of test_dataset\n# Create Gradient Boosting Classifier object\nmodel= GradientBoostingClassifier(n_estimators=100, learning_rate=1, max_depth=1, random_state=0)\n# Train the model using the training sets and check score\nmodel.fit(hog_features, y_train_array)\n#Predict Output\npredicted= model.predict(hog_features_val)\nprint('NB Accuracy test accuracy : {}'.format(accuracy_score(y_val_array, predicted)))\nprint('=============================================================================')",
      "execution_count": null,
      "outputs": []
    },
    {
      "metadata": {
        "trusted": true,
        "_uuid": "7874491f47e01f3fbedad850034bc47cbd944fd7"
      },
      "cell_type": "code",
      "source": "from xgboost import XGBClassifier\nmodel = XGBClassifier()\n\nmodel.fit(hog_features, y_train_array)\n\n#Make predictions for test data\ny_pred = model.predict(hog_features_test)\nprint('NB Accuracy test accuracy : {}'.format(accuracy_score(np.array(y_test), y_pred)))\nprint('=============================================================================')",
      "execution_count": null,
      "outputs": []
    },
    {
      "metadata": {
        "trusted": true,
        "_uuid": "5c2dfd516129dfaf7de2d043b40591acc610295f"
      },
      "cell_type": "code",
      "source": "",
      "execution_count": null,
      "outputs": []
    }
  ],
  "metadata": {
    "kernelspec": {
      "display_name": "Python 3",
      "language": "python",
      "name": "python3"
    },
    "language_info": {
      "name": "python",
      "version": "3.6.6",
      "mimetype": "text/x-python",
      "codemirror_mode": {
        "name": "ipython",
        "version": 3
      },
      "pygments_lexer": "ipython3",
      "nbconvert_exporter": "python",
      "file_extension": ".py"
    }
  },
  "nbformat": 4,
  "nbformat_minor": 1
}